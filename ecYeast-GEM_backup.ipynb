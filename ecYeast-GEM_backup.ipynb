{
 "cells": [
  {
   "cell_type": "code",
   "execution_count": 1,
   "id": "4b7e16a5",
   "metadata": {},
   "outputs": [],
   "source": [
    "\"\"\"\n",
    "运行前请移除results文件夹中的所有数据结果\n",
    "\"\"\"\n",
    "\n",
    "import os\n",
    "import Simulator_optlang\n",
    "import pandas as pd\n",
    "import glob\n",
    "import time\n",
    "\n",
    "from iBridgeFunctions import *\n",
    "from cobra.io import read_sbml_model\n",
    "\n",
    "import re"
   ]
  },
  {
   "cell_type": "code",
   "execution_count": 2,
   "id": "e7728959",
   "metadata": {},
   "outputs": [],
   "source": [
    "filename = r\"C:\\Users\\Victor\\PycharmProjects\\pythonProject\\iBridge\\input\\ecYeastGEM_batch.xml\"\n",
    "#filename=r\"C:\\Users\\Victor\\PycharmProjects\\pythonProject\\iBridge\\input\\iJO1366.xml\"\n",
    "biomass_reaction = 'r_2111'\n",
    "target_reaction = 'r_2024'\n",
    "#biomass_reaction='BIOMASS_Ec_iJO1366_core_53p95M'\n",
    "#target_reaction='EX_ptrc_e'\n",
    "\n",
    "input_dir = './input'\n",
    "output_dir = './results'\n",
    "\n",
    "if not os.path.exists(output_dir):\n",
    "    os.makedirs(output_dir)\n",
    "\n",
    "constrict={}"
   ]
  },
  {
   "cell_type": "code",
   "execution_count": 3,
   "id": "d7c44252",
   "metadata": {},
   "outputs": [
    {
     "name": "stdout",
     "output_type": "stream",
     "text": [
      "Set parameter Username\n",
      "Academic license - for non-commercial use only - expires 2025-01-17\n"
     ]
    }
   ],
   "source": [
    "simulator = Simulator_optlang.Simulator()\n",
    "model_metabolites, model_reactions, Smatrix, lower_boundary_constraints, upper_boundary_constraints, objective_reaction = simulator.read_model(filename)"
   ]
  },
  {
   "cell_type": "code",
   "execution_count": 4,
   "id": "0a4cd091",
   "metadata": {},
   "outputs": [],
   "source": [
    "corr_output = '%s/corr_%s.csv'%(output_dir,target_reaction)\n",
    "cov_output = '%s/cov_%s.csv'%(output_dir, target_reaction)"
   ]
  },
  {
   "cell_type": "code",
   "execution_count": 5,
   "id": "a8ee4a3e",
   "metadata": {},
   "outputs": [
    {
     "name": "stdout",
     "output_type": "stream",
     "text": [
      "Count: 1\tBiomass flux: 0.376828\n",
      "Count: 2\tBiomass flux: 0.337051\n",
      "Count: 3\tBiomass flux: 0.297275\n",
      "Count: 4\tBiomass flux: 0.257499\n",
      "Count: 5\tBiomass flux: 0.217723\n",
      "Count: 6\tBiomass flux: 0.177946\n",
      "Count: 7\tBiomass flux: 0.138170\n",
      "Count: 8\tBiomass flux: 0.098481\n",
      "Count: 9\tBiomass flux: 0.058669\n",
      "Count: 10\tBiomass flux: 0.018858\n"
     ]
    }
   ],
   "source": [
    "flux_distribution_dict = generate_multiple_flux_profiles(simulator, biomass_reaction, target_reaction, constrict)"
   ]
  },
  {
   "cell_type": "code",
   "execution_count": 6,
   "id": "6dcdc30c",
   "metadata": {},
   "outputs": [],
   "source": [
    "flux_df = pd.DataFrame.from_dict(flux_distribution_dict)\n",
    "flux_corr_df = flux_df.abs().T.corr()\n",
    "flux_cov_df = flux_df.abs().T.cov()"
   ]
  },
  {
   "cell_type": "code",
   "execution_count": 7,
   "id": "3b1662e4",
   "metadata": {},
   "outputs": [],
   "source": [
    "flux_corr_df = flux_corr_df[target_reaction].loc[simulator.model_reactions]\n",
    "flux_corr_df.to_csv(corr_output,header=0)\n",
    "flux_cov_df = flux_cov_df[target_reaction].loc[simulator.model_reactions]\n",
    "flux_cov_df.to_csv(cov_output,header=0)\n",
    "\n",
    "write_header(corr_output, target_reaction)\n",
    "write_header(cov_output, target_reaction)"
   ]
  },
  {
   "cell_type": "code",
   "execution_count": 8,
   "id": "8c8a38b8",
   "metadata": {},
   "outputs": [],
   "source": [
    "df = pd.read_csv(cov_output, index_col=0)"
   ]
  },
  {
   "cell_type": "code",
   "execution_count": 9,
   "id": "3a36caa8",
   "metadata": {},
   "outputs": [],
   "source": [
    "#ecModel = read_sbml_model(r\"C:\\Users\\Victor\\PycharmProjects\\pythonProject\\iBridge\\input\\iJO1366.xml\")\n",
    "ecModel = read_sbml_model(r\"C:\\Users\\Victor\\PycharmProjects\\pythonProject\\iBridge\\input\\ecYeastGEM_batch.xml\")\n",
    "met_info = metabolite_set(ecModel)"
   ]
  },
  {
   "cell_type": "code",
   "execution_count": 10,
   "id": "233f8fb9",
   "metadata": {},
   "outputs": [],
   "source": [
    "final_dic = {}\n",
    "fluxsum_dic = calculate_MetScore_sum(ecModel,  dict(df[target_reaction]))\n",
    "final_dic[target_reaction]=fluxsum_dic"
   ]
  },
  {
   "cell_type": "code",
   "execution_count": 11,
   "id": "511ac299",
   "metadata": {},
   "outputs": [],
   "source": [
    "metscore_df = pd.DataFrame.from_dict(final_dic)\n",
    "metscore_df.to_csv('%s/MetScore_%s.csv'%(output_dir, target_reaction))"
   ]
  },
  {
   "cell_type": "code",
   "execution_count": 12,
   "id": "4258a0fa",
   "metadata": {},
   "outputs": [],
   "source": [
    "flux_corr_df = pd.read_csv(corr_output, index_col=0)\n",
    "flux_cov_df = pd.read_csv(cov_output, index_col=0)"
   ]
  },
  {
   "cell_type": "code",
   "execution_count": 13,
   "id": "d3d750aa",
   "metadata": {},
   "outputs": [],
   "source": [
    "output_file = '%s/Final_MetScore_%s.txt'%(output_dir, target_reaction)"
   ]
  },
  {
   "cell_type": "code",
   "execution_count": 14,
   "id": "c146e747",
   "metadata": {},
   "outputs": [
    {
     "name": "stdout",
     "output_type": "stream",
     "text": [
      "Number of positive candidate reactions: 52\n",
      "Number of negative candidate reactions: 91\n"
     ]
    }
   ],
   "source": [
    "select_candidates(ecModel, target_reaction, output_file, metscore_df, flux_corr_df, flux_cov_df)"
   ]
  },
  {
   "cell_type": "code",
   "execution_count": 15,
   "id": "e7e8bfc2",
   "metadata": {},
   "outputs": [],
   "source": [
    "df2 = pd.read_table(os.path.abspath(output_file))"
   ]
  },
  {
   "cell_type": "code",
   "execution_count": 16,
   "id": "85bc67d7",
   "metadata": {},
   "outputs": [],
   "source": [
    "files = glob.glob('%s/Final_*.txt'%output_dir)\n",
    "for filename in files:\n",
    "    basename = os.path.basename(filename)\n",
    "    df2 = pd.read_table(filename)\n",
    "    make_candidate_reaction_sets(df2, basename, input_dir, output_dir)"
   ]
  },
  {
   "cell_type": "code",
   "execution_count": 17,
   "id": "17cca032",
   "metadata": {},
   "outputs": [
    {
     "name": "stdout",
     "output_type": "stream",
     "text": [
      "Target reaction: r_2024\n",
      "Elapsed time: 501.368545s\n"
     ]
    }
   ],
   "source": [
    "files = glob.glob('%s/application_results/*.txt'%output_dir)\n",
    "\n",
    "for each_file in files:\n",
    "    s = time.time()\n",
    "    basename = os.path.basename(each_file)\n",
    "    target_reaction_id = basename.split('Final_MetScore_')[1].strip().replace('.txt', '')\n",
    "\n",
    "    corr_file = glob.glob('%s/corr*%s*.csv'%(output_dir, target_reaction_id))[0]\n",
    "    cov_file = glob.glob('%s/cov*%s*.csv'%(output_dir, target_reaction_id))[0]\n",
    "\n",
    "    flux_corr_df = pd.read_csv(corr_file, index_col=0)\n",
    "    flux_cov_df = pd.read_csv(cov_file, index_col=0)\n",
    "\n",
    "    print('Target reaction: %s'%(target_reaction_id))\n",
    "\n",
    "    up_reaction_list = check_up_reaction(each_file, met_info, flux_corr_df, flux_cov_df, output_dir)\n",
    "    down_reaction_list = check_down_reaction(each_file, met_info, flux_corr_df, flux_cov_df, output_dir)\n",
    "    \n",
    "    e = time.time()\n",
    "    print('Elapsed time: %fs'%(e-s))"
   ]
  },
  {
   "cell_type": "code",
   "execution_count": 18,
   "id": "8adf80c8",
   "metadata": {},
   "outputs": [],
   "source": [
    "up_reactions_matched = []\n",
    "down_reactions_matched = []\n",
    "\n",
    "for up_reaction in up_reaction_list:\n",
    "    if re.match(r'r_\\d{4}$', up_reaction):\n",
    "        up_reactions_matched.append(up_reaction)\n",
    "        \n",
    "for down_reaction in down_reaction_list:\n",
    "    if re.match(r'r_\\d{4}$', down_reaction):\n",
    "        down_reactions_matched.append(down_reaction)\n",
    "\n",
    "up_reactions = pd.DataFrame(data=up_reactions_matched,columns=['Up'])   \n",
    "down_reactions = pd.DataFrame(data=down_reactions_matched,columns=['Down'])              \n",
    "\n",
    "up_reactions.to_csv('./results/application_result2/up_reactions.csv',index=0)\n",
    "down_reactions.to_csv('./results/application_result2/down_reactions.csv',index=0)"
   ]
  }
 ],
 "metadata": {
  "kernelspec": {
   "display_name": "Python 3 (ipykernel)",
   "language": "python",
   "name": "python3"
  },
  "language_info": {
   "codemirror_mode": {
    "name": "ipython",
    "version": 3
   },
   "file_extension": ".py",
   "mimetype": "text/x-python",
   "name": "python",
   "nbconvert_exporter": "python",
   "pygments_lexer": "ipython3",
   "version": "3.11.5"
  }
 },
 "nbformat": 4,
 "nbformat_minor": 5
}
